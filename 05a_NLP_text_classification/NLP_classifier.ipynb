{
 "cells": [
  {
   "cell_type": "code",
   "id": "initial_id",
   "metadata": {
    "collapsed": true,
    "ExecuteTime": {
     "end_time": "2024-12-13T17:05:14.994527Z",
     "start_time": "2024-12-13T17:05:13.344931Z"
    }
   },
   "source": [
    "import pandas as pd\n",
    "from sklearn.feature_extraction.text import CountVectorizer\n",
    "from sklearn.feature_extraction.text import TfidfTransformer\n",
    "from sklearn.naive_bayes import MultinomialNB\n",
    "from sklearn.pipeline import Pipeline\n",
    "from sklearn.model_selection import cross_val_score\n",
    "\n",
    "data = pd.read_csv('data/Movie_Overview_Classification.csv',\n",
    "                   encoding='utf-8',\n",
    "                   delimiter=',',\n",
    "                   quotechar='|',\n",
    "                   quoting=csv.QUOTE_MINIMAL) "
   ],
   "outputs": [],
   "execution_count": 1
  },
  {
   "metadata": {
    "ExecuteTime": {
     "end_time": "2024-11-04T15:42:51.384890Z",
     "start_time": "2024-11-04T15:42:51.329927Z"
    }
   },
   "cell_type": "code",
   "source": [
    "#Tokenizing\n",
    "\n",
    "count_vect = CountVectorizer()\n",
    "X_train_counts = count_vect.fit_transform(data)\n",
    "X_train_counts.shape\n"
   ],
   "id": "645ee3fbc00a3149",
   "outputs": [],
   "execution_count": 80
  },
  {
   "metadata": {
    "ExecuteTime": {
     "end_time": "2024-11-04T15:42:51.469136Z",
     "start_time": "2024-11-04T15:42:51.463514Z"
    }
   },
   "cell_type": "code",
   "source": [
    "# Term Frequency  tf-idf\n",
    "\n",
    "tf_transformer = TfidfTransformer(use_idf=False).fit(X_train_counts)\n",
    "X_train_tf = tf_transformer.transform(X_train_counts)\n",
    "X_train_tf.shape\n"
   ],
   "id": "404cb1e3b9392eb0",
   "outputs": [],
   "execution_count": null
  },
  {
   "metadata": {
    "ExecuteTime": {
     "end_time": "2024-11-04T15:42:55.042194Z",
     "start_time": "2024-11-04T15:42:51.596264Z"
    }
   },
   "cell_type": "code",
   "source": [
    "# MultinomialNB\n",
    "\n",
    "clf = MultinomialNB().fit(X_train_tf, data)\n",
    "predicted = clf.predict(X_train_tf)"
   ],
   "id": "e830b1bb33f5b559",
   "outputs": [
    {
     "name": "stdout",
     "output_type": "stream",
     "text": [
      "Mean accuracy: 0.8237952559300874\n"
     ]
    }
   ],
   "execution_count": 81
  },
  {
   "metadata": {
    "ExecuteTime": {
     "end_time": "2024-11-04T15:42:55.159049Z",
     "start_time": "2024-11-04T15:42:55.111202Z"
    }
   },
   "cell_type": "code",
   "source": [
    "# Build pipeline\n",
    "\n",
    "text_clf = Pipeline([\n",
    "    ('vect', CountVectorizer()),\n",
    "    ('tfidf', TfidfTransformer()),\n",
    "    ('clf', MultinomialNB()),\n",
    "])\n",
    "\n",
    "text_clf.fit(data, target)"
   ],
   "id": "d178c01bf0787e01",
   "outputs": [
    {
     "name": "stdout",
     "output_type": "stream",
     "text": [
      "Your submission was successfully saved!\n"
     ]
    }
   ],
   "execution_count": 82
  },
  {
   "metadata": {},
   "cell_type": "code",
   "outputs": [],
   "execution_count": null,
   "source": [
    "scores = cross_val_score(model, X, y)\n",
    "print(f'Accuracy: {scores.mean()}')"
   ],
   "id": "c803cc8dc28142d8"
  }
 ],
 "metadata": {
  "kernelspec": {
   "display_name": "Python 3",
   "language": "python",
   "name": "python3"
  },
  "language_info": {
   "codemirror_mode": {
    "name": "ipython",
    "version": 2
   },
   "file_extension": ".py",
   "mimetype": "text/x-python",
   "name": "python",
   "nbconvert_exporter": "python",
   "pygments_lexer": "ipython2",
   "version": "2.7.6"
  }
 },
 "nbformat": 4,
 "nbformat_minor": 5
}
