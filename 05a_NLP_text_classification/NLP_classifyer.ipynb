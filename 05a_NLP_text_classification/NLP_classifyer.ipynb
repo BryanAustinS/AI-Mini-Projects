{
 "cells": [
  {
   "cell_type": "code",
   "execution_count": null,
   "id": "initial_id",
   "metadata": {
    "collapsed": true
   },
   "outputs": [],
   "source": [
    "# Load data\n",
    "import csv\n",
    "import pandas as pd\n",
    "\n",
    "data = pd.read_csv('data/Movie_Overview_Classification.csv',\n",
    "                   encoding='utf-8', \n",
    "                   delimiter=',',\n",
    "                   quotechar='|',\n",
    "                   quoting=csv.QUOTE_MINIMAL)\n"
   ]
  },
  {
   "metadata": {},
   "cell_type": "code",
   "outputs": [],
   "execution_count": null,
   "source": "# Perform pre-processing, e.g., replacing missing values if existing\n",
   "id": "95652db3bb28c12a"
  },
  {
   "metadata": {},
   "cell_type": "code",
   "outputs": [],
   "execution_count": null,
   "source": "# Implement a classifier\n",
   "id": "274d2daabff93793"
  },
  {
   "metadata": {},
   "cell_type": "code",
   "outputs": [],
   "execution_count": null,
   "source": "# Measure accuracy using cross-validation\n",
   "id": "389c18b5fe0fad2e"
  }
 ],
 "metadata": {
  "kernelspec": {
   "display_name": "Python 3",
   "language": "python",
   "name": "python3"
  },
  "language_info": {
   "codemirror_mode": {
    "name": "ipython",
    "version": 2
   },
   "file_extension": ".py",
   "mimetype": "text/x-python",
   "name": "python",
   "nbconvert_exporter": "python",
   "pygments_lexer": "ipython2",
   "version": "2.7.6"
  }
 },
 "nbformat": 4,
 "nbformat_minor": 5
}
