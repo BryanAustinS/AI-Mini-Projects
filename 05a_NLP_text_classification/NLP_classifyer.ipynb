{
 "cells": [
  {
   "cell_type": "code",
   "id": "initial_id",
   "metadata": {
    "collapsed": true,
    "ExecuteTime": {
     "end_time": "2024-12-16T12:22:00.083553Z",
     "start_time": "2024-12-16T12:22:00.030616Z"
    }
   },
   "source": [
    "# Load data\n",
    "import csv\n",
    "import pandas as pd\n",
    "import re\n",
    "from nltk.corpus import stopwords\n",
    "from scipy.constants import yocto\n",
    "\n",
    "data = pd.read_csv('data/Movie_Overview_Classification.csv',\n",
    "                   encoding='utf-8', \n",
    "                   delimiter=',',\n",
    "                   quotechar='|',\n",
    "                   quoting=csv.QUOTE_MINIMAL)\n",
    "\n",
    "data.head()"
   ],
   "outputs": [
    {
     "data": {
      "text/plain": [
       "   id                                           overview  genre_Drama\n",
       "0   1  When Lou, who has become the \"father of the In...            0\n",
       "1   2  Mia Thermopolis is now a college graduate and ...            1\n",
       "2   3  Under the direction of a ruthless instructor, ...            1\n",
       "3   4  Vidya Bagchi (Vidya Balan) arrives in Kolkata ...            1\n",
       "4   5  Marine Boy is the story of a former national s...            0"
      ],
      "text/html": [
       "<div>\n",
       "<style scoped>\n",
       "    .dataframe tbody tr th:only-of-type {\n",
       "        vertical-align: middle;\n",
       "    }\n",
       "\n",
       "    .dataframe tbody tr th {\n",
       "        vertical-align: top;\n",
       "    }\n",
       "\n",
       "    .dataframe thead th {\n",
       "        text-align: right;\n",
       "    }\n",
       "</style>\n",
       "<table border=\"1\" class=\"dataframe\">\n",
       "  <thead>\n",
       "    <tr style=\"text-align: right;\">\n",
       "      <th></th>\n",
       "      <th>id</th>\n",
       "      <th>overview</th>\n",
       "      <th>genre_Drama</th>\n",
       "    </tr>\n",
       "  </thead>\n",
       "  <tbody>\n",
       "    <tr>\n",
       "      <th>0</th>\n",
       "      <td>1</td>\n",
       "      <td>When Lou, who has become the \"father of the In...</td>\n",
       "      <td>0</td>\n",
       "    </tr>\n",
       "    <tr>\n",
       "      <th>1</th>\n",
       "      <td>2</td>\n",
       "      <td>Mia Thermopolis is now a college graduate and ...</td>\n",
       "      <td>1</td>\n",
       "    </tr>\n",
       "    <tr>\n",
       "      <th>2</th>\n",
       "      <td>3</td>\n",
       "      <td>Under the direction of a ruthless instructor, ...</td>\n",
       "      <td>1</td>\n",
       "    </tr>\n",
       "    <tr>\n",
       "      <th>3</th>\n",
       "      <td>4</td>\n",
       "      <td>Vidya Bagchi (Vidya Balan) arrives in Kolkata ...</td>\n",
       "      <td>1</td>\n",
       "    </tr>\n",
       "    <tr>\n",
       "      <th>4</th>\n",
       "      <td>5</td>\n",
       "      <td>Marine Boy is the story of a former national s...</td>\n",
       "      <td>0</td>\n",
       "    </tr>\n",
       "  </tbody>\n",
       "</table>\n",
       "</div>"
      ]
     },
     "execution_count": 279,
     "metadata": {},
     "output_type": "execute_result"
    }
   ],
   "execution_count": 279
  },
  {
   "metadata": {
    "ExecuteTime": {
     "end_time": "2024-12-16T12:22:01.819852Z",
     "start_time": "2024-12-16T12:22:00.179215Z"
    }
   },
   "cell_type": "code",
   "source": [
    "# Preprocess data\n",
    "# Fill missing values\n",
    "data['overview'] = data['overview'].fillna('')\n",
    "\n",
    "# Remove special characters, numbers, and punctuation\n",
    "data['overview'] = data['overview'].apply(lambda x: re.sub(r'[^a-zA-Z\\s]', '', x))\n",
    "\n",
    "# Remove stop words\n",
    "def remove_stopwords(text):\n",
    "    stop_words = set(stopwords.words('english'))\n",
    "    return ' '.join([word for word in text.split() if word not in stop_words])\n",
    "\n",
    "data['overview'] = data['overview'].apply(remove_stopwords)\n",
    "\n",
    "X = data['overview']\n",
    "y = data['genre_Drama']"
   ],
   "id": "95652db3bb28c12a",
   "outputs": [],
   "execution_count": 280
  },
  {
   "metadata": {},
   "cell_type": "markdown",
   "source": "### Implement a classifier",
   "id": "b8ddf1292a96be7e"
  },
  {
   "metadata": {
    "ExecuteTime": {
     "end_time": "2024-12-16T12:22:02.029022Z",
     "start_time": "2024-12-16T12:22:01.863336Z"
    }
   },
   "cell_type": "code",
   "source": [
    "# Tokenize text with CountVectorizer\n",
    "from sklearn.feature_extraction.text import CountVectorizer\n",
    "count_vect = CountVectorizer()\n",
    "X_train_counts = count_vect.fit_transform(X)\n",
    "X_train_counts.shape"
   ],
   "id": "274d2daabff93793",
   "outputs": [
    {
     "data": {
      "text/plain": [
       "(3000, 18414)"
      ]
     },
     "execution_count": 281,
     "metadata": {},
     "output_type": "execute_result"
    }
   ],
   "execution_count": 281
  },
  {
   "metadata": {
    "ExecuteTime": {
     "end_time": "2024-12-16T12:22:02.152261Z",
     "start_time": "2024-12-16T12:22:02.132156Z"
    }
   },
   "cell_type": "code",
   "source": [
    "# Transform the count matrix to a normalized term-frequency or term-frequency times inverse document-frequency representation \n",
    "from sklearn.feature_extraction.text import TfidfTransformer\n",
    "tf_transformer = TfidfTransformer(use_idf=False).fit(X_train_counts)\n",
    "X_train_tf = tf_transformer.transform(X_train_counts)\n",
    "X_train_tf.shape"
   ],
   "id": "2d906ab99e7b0810",
   "outputs": [
    {
     "data": {
      "text/plain": [
       "(3000, 18414)"
      ]
     },
     "execution_count": 282,
     "metadata": {},
     "output_type": "execute_result"
    }
   ],
   "execution_count": 282
  },
  {
   "metadata": {
    "ExecuteTime": {
     "end_time": "2024-12-16T12:22:02.269593Z",
     "start_time": "2024-12-16T12:22:02.254457Z"
    }
   },
   "cell_type": "code",
   "source": [
    "# \n",
    "from sklearn.naive_bayes import MultinomialNB\n",
    "clf = MultinomialNB().fit(X_train_tf, y)"
   ],
   "id": "c16fb4a6fd5a308a",
   "outputs": [],
   "execution_count": 283
  },
  {
   "metadata": {
    "ExecuteTime": {
     "end_time": "2024-12-16T12:22:02.326688Z",
     "start_time": "2024-12-16T12:22:02.315529Z"
    }
   },
   "cell_type": "code",
   "source": [
    "# Build a pipeline\n",
    "from sklearn.pipeline import Pipeline\n",
    "text_clf = Pipeline([\n",
    "    ('vect', CountVectorizer()),\n",
    "    ('tfidf', TfidfTransformer()),\n",
    "    ('clf', MultinomialNB()),\n",
    "])"
   ],
   "id": "2da2f26800f3cc79",
   "outputs": [],
   "execution_count": 284
  },
  {
   "metadata": {
    "ExecuteTime": {
     "end_time": "2024-12-16T12:22:02.551580Z",
     "start_time": "2024-12-16T12:22:02.358985Z"
    }
   },
   "cell_type": "code",
   "source": [
    "# Train the classifier\n",
    "text_clf = text_clf.fit(X, y)"
   ],
   "id": "c1426cbe916f0853",
   "outputs": [],
   "execution_count": 285
  },
  {
   "metadata": {
    "ExecuteTime": {
     "end_time": "2024-12-16T12:22:04.246275Z",
     "start_time": "2024-12-16T12:22:02.576339Z"
    }
   },
   "cell_type": "code",
   "source": [
    "# Measure accuracy using cross-validation\n",
    "from sklearn.model_selection import cross_val_score\n",
    "\n",
    "scores = cross_val_score(text_clf, X, y, cv=10)\n",
    "print(\"Accuracy: %0.2f (+/- %0.2f)\" % (scores.mean(), scores.std() * 2))"
   ],
   "id": "389c18b5fe0fad2e",
   "outputs": [
    {
     "name": "stdout",
     "output_type": "stream",
     "text": [
      "Accuracy: 0.68 (+/- 0.05)\n"
     ]
    }
   ],
   "execution_count": 286
  }
 ],
 "metadata": {
  "kernelspec": {
   "display_name": "Python 3",
   "language": "python",
   "name": "python3"
  },
  "language_info": {
   "codemirror_mode": {
    "name": "ipython",
    "version": 2
   },
   "file_extension": ".py",
   "mimetype": "text/x-python",
   "name": "python",
   "nbconvert_exporter": "python",
   "pygments_lexer": "ipython2",
   "version": "2.7.6"
  }
 },
 "nbformat": 4,
 "nbformat_minor": 5
}
