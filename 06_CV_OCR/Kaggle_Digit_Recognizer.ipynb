{
 "cells": [
  {
   "metadata": {
    "ExecuteTime": {
     "end_time": "2025-01-20T12:18:25.938425Z",
     "start_time": "2025-01-20T12:18:22.217915Z"
    }
   },
   "cell_type": "code",
   "source": [
    "import pandas as pd\n",
    "from tensorflow.keras.utils import to_categorical\n",
    "from tensorflow.keras.models import Sequential\n",
    "from tensorflow.keras.layers import Conv2D, MaxPooling2D, Flatten, Dense\n",
    "from tensorflow.keras.optimizers import RMSprop\n",
    "from sklearn.model_selection import train_test_split\n",
    "\n",
    "# Loading data\n",
    "train = pd.read_csv('data/train.csv')\n",
    "test = pd.read_csv('data/test.csv')\n",
    "\n",
    "test = test.values.reshape(-1, 28, 28, 1)"
   ],
   "id": "db5e155649b0b3c0",
   "outputs": [],
   "execution_count": 41
  },
  {
   "metadata": {
    "ExecuteTime": {
     "end_time": "2025-01-20T12:18:26.689430Z",
     "start_time": "2025-01-20T12:18:25.938425Z"
    }
   },
   "cell_type": "code",
   "source": [
    "# Preprocessing\n",
    "X = train.drop(labels=['label'], axis=1)\n",
    "y = train['label']\n",
    "\n",
    "# One hot encode labels\n",
    "Y = to_categorical(y, num_classes=10)\n",
    "\n",
    "# Normalize pixel data\n",
    "X = X/255.0\n",
    "\n",
    "# Reshape image in 3 dimensions (height= 28px, width= 28px, canal= 1)\n",
    "X = X.values.reshape(-1, 28, 28, 1)\n",
    "\n",
    "\n",
    "# Split the data in training and test set\n",
    "X_train, X_test, Y_train, Y_test = train_test_split(X, Y, test_size=0.2, random_state=42)"
   ],
   "id": "50c004267fd26bb",
   "outputs": [],
   "execution_count": 42
  },
  {
   "metadata": {
    "ExecuteTime": {
     "end_time": "2025-01-20T12:18:34.169160Z",
     "start_time": "2025-01-20T12:18:26.720613Z"
    }
   },
   "cell_type": "code",
   "source": [
    "# Define the model\n",
    "model = Sequential([\n",
    "    Conv2D(32, (3,3), activation='relu', input_shape=(28, 28, 1)),\n",
    "    MaxPooling2D(2,2),\n",
    "    Conv2D(64, (3,3), activation='relu'),\n",
    "    MaxPooling2D(2,2),\n",
    "    Flatten(),\n",
    "    Dense(512, activation='relu'),\n",
    "    Dense(10, activation='softmax')\n",
    "])\n",
    "\n",
    "# Train the model\n",
    "model.compile(optimizer=RMSprop(), loss='categorical_crossentropy', metrics=['accuracy'])\n",
    "\n",
    "# Fitting the model\n",
    "#history = model.fit(X, Y, batch_size=100, epochs=1)\n",
    "history = model.fit(X_train, Y_train, batch_size=100, epochs=1, validation_data=(X_test, Y_test))\n"
   ],
   "id": "e655d2c0436a8418",
   "outputs": [
    {
     "name": "stderr",
     "output_type": "stream",
     "text": [
      "C:\\Users\\Bryan Austin S\\.virtualenvs\\Mo3y-Team-05\\Lib\\site-packages\\keras\\src\\layers\\convolutional\\base_conv.py:107: UserWarning: Do not pass an `input_shape`/`input_dim` argument to a layer. When using Sequential models, prefer using an `Input(shape)` object as the first layer in the model instead.\n",
      "  super().__init__(activity_regularizer=activity_regularizer, **kwargs)\n"
     ]
    },
    {
     "name": "stdout",
     "output_type": "stream",
     "text": [
      "\u001B[1m336/336\u001B[0m \u001B[32m━━━━━━━━━━━━━━━━━━━━\u001B[0m\u001B[37m\u001B[0m \u001B[1m7s\u001B[0m 18ms/step - accuracy: 0.8332 - loss: 0.5065 - val_accuracy: 0.9764 - val_loss: 0.0711\n"
     ]
    }
   ],
   "execution_count": 43
  },
  {
   "metadata": {
    "ExecuteTime": {
     "end_time": "2025-01-20T12:18:37.075880Z",
     "start_time": "2025-01-20T12:18:34.188115Z"
    }
   },
   "cell_type": "code",
   "source": [
    "import numpy as np\n",
    "\n",
    "# Predict results\n",
    "results = model.predict(test)\n",
    "\n",
    "# One hot decoding: Select the index with the maximum probability\n",
    "results = np.argmax(results, axis = 1)\n",
    "\n",
    "# Add columns ImageID and Label\n",
    "results = pd.Series(results, name=\"Label\")\n",
    "submission = pd.concat([pd.Series(range(1, len(results)+1), name = \"ImageId\"), results], axis = 1)\n",
    "\n",
    "# Generate CSV file\n",
    "submission.to_csv('data/submission.csv', index=False)"
   ],
   "id": "f2dee25a9ea618e0",
   "outputs": [
    {
     "name": "stdout",
     "output_type": "stream",
     "text": [
      "\u001B[1m875/875\u001B[0m \u001B[32m━━━━━━━━━━━━━━━━━━━━\u001B[0m\u001B[37m\u001B[0m \u001B[1m3s\u001B[0m 3ms/step\n"
     ]
    }
   ],
   "execution_count": 44
  }
 ],
 "metadata": {
  "kernelspec": {
   "display_name": "Python 3",
   "language": "python",
   "name": "python3"
  },
  "language_info": {
   "codemirror_mode": {
    "name": "ipython",
    "version": 2
   },
   "file_extension": ".py",
   "mimetype": "text/x-python",
   "name": "python",
   "nbconvert_exporter": "python",
   "pygments_lexer": "ipython2",
   "version": "2.7.6"
  }
 },
 "nbformat": 4,
 "nbformat_minor": 5
}
