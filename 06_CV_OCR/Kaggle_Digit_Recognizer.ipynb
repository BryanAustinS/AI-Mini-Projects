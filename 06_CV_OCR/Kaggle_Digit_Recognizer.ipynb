{
 "cells": [
  {
   "metadata": {
    "ExecuteTime": {
     "end_time": "2025-01-20T11:59:48.219532Z",
     "start_time": "2025-01-20T11:59:48.198675Z"
    }
   },
   "cell_type": "code",
   "source": [
    "import pandas as pd\n",
    "from tensorflow.keras.utils import to_categorical\n",
    "from tensorflow.keras.models import Sequential\n",
    "from tensorflow.keras.layers import Conv2D, MaxPooling2D, Flatten, Dense\n",
    "from tensorflow.keras.optimizers import RMSprop\n",
    "\n",
    "# Loading data\n",
    "train = pd.read_csv('train.csv')\n",
    "test = pd.read_csv('test.csv')"
   ],
   "id": "db5e155649b0b3c0",
   "outputs": [
    {
     "ename": "ModuleNotFoundError",
     "evalue": "No module named 'pandas'",
     "output_type": "error",
     "traceback": [
      "\u001B[1;31m---------------------------------------------------------------------------\u001B[0m",
      "\u001B[1;31mModuleNotFoundError\u001B[0m                       Traceback (most recent call last)",
      "Cell \u001B[1;32mIn[3], line 1\u001B[0m\n\u001B[1;32m----> 1\u001B[0m \u001B[38;5;28;01mimport\u001B[39;00m\u001B[38;5;250m \u001B[39m\u001B[38;5;21;01mpandas\u001B[39;00m\u001B[38;5;250m \u001B[39m\u001B[38;5;28;01mas\u001B[39;00m\u001B[38;5;250m \u001B[39m\u001B[38;5;21;01mpd\u001B[39;00m\n\u001B[0;32m      2\u001B[0m \u001B[38;5;28;01mfrom\u001B[39;00m\u001B[38;5;250m \u001B[39m\u001B[38;5;21;01mtensorflow\u001B[39;00m\u001B[38;5;21;01m.\u001B[39;00m\u001B[38;5;21;01mkeras\u001B[39;00m\u001B[38;5;21;01m.\u001B[39;00m\u001B[38;5;21;01mutils\u001B[39;00m\u001B[38;5;250m \u001B[39m\u001B[38;5;28;01mimport\u001B[39;00m to_categorical\n\u001B[0;32m      3\u001B[0m \u001B[38;5;28;01mfrom\u001B[39;00m\u001B[38;5;250m \u001B[39m\u001B[38;5;21;01mtensorflow\u001B[39;00m\u001B[38;5;21;01m.\u001B[39;00m\u001B[38;5;21;01mkeras\u001B[39;00m\u001B[38;5;21;01m.\u001B[39;00m\u001B[38;5;21;01mmodels\u001B[39;00m\u001B[38;5;250m \u001B[39m\u001B[38;5;28;01mimport\u001B[39;00m Sequential\n",
      "\u001B[1;31mModuleNotFoundError\u001B[0m: No module named 'pandas'"
     ]
    }
   ],
   "execution_count": 3
  },
  {
   "metadata": {},
   "cell_type": "code",
   "outputs": [],
   "execution_count": null,
   "source": [
    "# Preprocessing\n",
    "X = train.drop(labels=['label'], axis=1)\n",
    "y = train['label']\n",
    "\n",
    "# One hot encode labels\n",
    "Y = to_categorical(y, num_classes=10)\n",
    "\n",
    "# Normalize pixel data\n",
    "X = X/255.0\n",
    "\n",
    "# Reshape image in 3 dimensions (height= 28px, width= 28px, canal= 1)\n",
    "X = X.values.reshape(-1, 28, 28, 1)"
   ],
   "id": "50c004267fd26bb"
  },
  {
   "metadata": {
    "ExecuteTime": {
     "end_time": "2025-01-20T11:59:48.321929100Z",
     "start_time": "2025-01-20T11:57:06.115078Z"
    }
   },
   "cell_type": "code",
   "source": [
    "# Define the model\n",
    "model = Sequential([\n",
    "    Conv2D(32, (3,3), activation='relu', input_shape=(28, 28, 1)),\n",
    "    MaxPooling2D(2,2),\n",
    "    Conv2D(64, (3,3), activation='relu'),\n",
    "    MaxPooling2D(2,2),\n",
    "    Flatten(),\n",
    "    Dense(512, activation='relu'),\n",
    "    Dense(10, activation='softmax')\n",
    "])\n",
    "\n",
    "# Train the model\n",
    "model.compile(optimizer=RMSprop(), loss='categorical_crossentropy', metrics=['accuracy'])\n",
    "\n",
    "# Fitting the model\n",
    "history = model.fit(X, Y, batch_size=100, epochs=1)"
   ],
   "id": "e655d2c0436a8418",
   "outputs": [
    {
     "ename": "NameError",
     "evalue": "name 'Sequential' is not defined",
     "output_type": "error",
     "traceback": [
      "\u001B[1;31m---------------------------------------------------------------------------\u001B[0m",
      "\u001B[1;31mNameError\u001B[0m                                 Traceback (most recent call last)",
      "Cell \u001B[1;32mIn[2], line 2\u001B[0m\n\u001B[0;32m      1\u001B[0m \u001B[38;5;66;03m# Define the model\u001B[39;00m\n\u001B[1;32m----> 2\u001B[0m model \u001B[38;5;241m=\u001B[39m \u001B[43mSequential\u001B[49m([\n\u001B[0;32m      3\u001B[0m     Conv2D(\u001B[38;5;241m32\u001B[39m, (\u001B[38;5;241m3\u001B[39m,\u001B[38;5;241m3\u001B[39m), activation\u001B[38;5;241m=\u001B[39m\u001B[38;5;124m'\u001B[39m\u001B[38;5;124mrelu\u001B[39m\u001B[38;5;124m'\u001B[39m, input_shape\u001B[38;5;241m=\u001B[39m(\u001B[38;5;241m28\u001B[39m, \u001B[38;5;241m28\u001B[39m, \u001B[38;5;241m1\u001B[39m)),\n\u001B[0;32m      4\u001B[0m     MaxPooling2D(\u001B[38;5;241m2\u001B[39m,\u001B[38;5;241m2\u001B[39m),\n\u001B[0;32m      5\u001B[0m     Conv2D(\u001B[38;5;241m64\u001B[39m, (\u001B[38;5;241m3\u001B[39m,\u001B[38;5;241m3\u001B[39m), activation\u001B[38;5;241m=\u001B[39m\u001B[38;5;124m'\u001B[39m\u001B[38;5;124mrelu\u001B[39m\u001B[38;5;124m'\u001B[39m),\n\u001B[0;32m      6\u001B[0m     MaxPooling2D(\u001B[38;5;241m2\u001B[39m,\u001B[38;5;241m2\u001B[39m),\n\u001B[0;32m      7\u001B[0m     Flatten(),\n\u001B[0;32m      8\u001B[0m     Dense(\u001B[38;5;241m512\u001B[39m, activation\u001B[38;5;241m=\u001B[39m\u001B[38;5;124m'\u001B[39m\u001B[38;5;124mrelu\u001B[39m\u001B[38;5;124m'\u001B[39m),\n\u001B[0;32m      9\u001B[0m     Dense(\u001B[38;5;241m10\u001B[39m, activation\u001B[38;5;241m=\u001B[39m\u001B[38;5;124m'\u001B[39m\u001B[38;5;124msoftmax\u001B[39m\u001B[38;5;124m'\u001B[39m)\n\u001B[0;32m     10\u001B[0m ])\n\u001B[0;32m     12\u001B[0m \u001B[38;5;66;03m# Train the model\u001B[39;00m\n\u001B[0;32m     13\u001B[0m model\u001B[38;5;241m.\u001B[39mcompile(optimizer\u001B[38;5;241m=\u001B[39mRMSprop(), loss\u001B[38;5;241m=\u001B[39m\u001B[38;5;124m'\u001B[39m\u001B[38;5;124mcategorical_crossentropy\u001B[39m\u001B[38;5;124m'\u001B[39m, metrics\u001B[38;5;241m=\u001B[39m[\u001B[38;5;124m'\u001B[39m\u001B[38;5;124maccuracy\u001B[39m\u001B[38;5;124m'\u001B[39m])\n",
      "\u001B[1;31mNameError\u001B[0m: name 'Sequential' is not defined"
     ]
    }
   ],
   "execution_count": 2
  },
  {
   "metadata": {},
   "cell_type": "code",
   "outputs": [],
   "execution_count": null,
   "source": [
    "# Split the data in training and test set\n",
    "X_train, X_test, Y_train, Y_test = train_test_split(X, y)"
   ],
   "id": "469b6945f964c4ed"
  },
  {
   "metadata": {},
   "cell_type": "code",
   "outputs": [],
   "execution_count": null,
   "source": [
    "# Predict results\n",
    "results = model.predict(test)\n",
    "\n",
    "# One hot decoding: Select the index with the maximum probability\n",
    "results = np.argmax(results, axis = 1)\n",
    "\n",
    "# Add columns ImageID and Label\n",
    "results = pd.Series(results, name=\"Label\")\n",
    "submission = pd.concat([pd.Series(range(1, len(results)+1), name = \"ImageId\"), results], axis = 1)\n",
    "\n",
    "# Generate CSV file\n",
    "submission.to_csv('data/submission.csv', index=False)"
   ],
   "id": "f2dee25a9ea618e0"
  }
 ],
 "metadata": {
  "kernelspec": {
   "display_name": "Python 3",
   "language": "python",
   "name": "python3"
  },
  "language_info": {
   "codemirror_mode": {
    "name": "ipython",
    "version": 2
   },
   "file_extension": ".py",
   "mimetype": "text/x-python",
   "name": "python",
   "nbconvert_exporter": "python",
   "pygments_lexer": "ipython2",
   "version": "2.7.6"
  }
 },
 "nbformat": 4,
 "nbformat_minor": 5
}
