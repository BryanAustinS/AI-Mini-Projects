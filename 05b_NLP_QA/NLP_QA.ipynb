{
 "cells": [
  {
   "metadata": {},
   "cell_type": "code",
   "outputs": [],
   "execution_count": null,
   "source": [
    "import pandas as pd\n",
    "\n",
    "train_data = pd.read_csv('data/QA_train_data.csv')\n",
    "test_data = pd.read_csv('data/QA_test_data.csv')"
   ],
   "id": "2117a7c5b55a138"
  },
  {
   "cell_type": "code",
   "execution_count": null,
   "id": "initial_id",
   "metadata": {
    "collapsed": true
   },
   "outputs": [],
   "source": [
    "def predict_answer(question: str)-> str:\n",
    "    \"\"\"\n",
    "    Predicts an answer to a given question\n",
    "    :param question: question string\n",
    "    :return: answer string or None if insufficient confidence\n",
    "    \"\"\"\n",
    "    pass\n",
    "    # Your code…"
   ]
  },
  {
   "metadata": {},
   "cell_type": "code",
   "outputs": [],
   "execution_count": null,
   "source": [
    "# Predict\n",
    "predicted = test_data['Question'].apply(lambda q: predict_answer(q))\n",
    "actual = test_data['Answer']"
   ],
   "id": "8cbcdb095f940406"
  },
  {
   "metadata": {},
   "cell_type": "code",
   "outputs": [],
   "execution_count": null,
   "source": [
    "def evaluate_result(predicted: str, actual: str) -> int:\n",
    "    \"\"\"\"\n",
    "    Evaluates individual string answer string pair \n",
    "    :param predicted: answer predicted by predictor \n",
    "    :param actual: correct answer according to data set \n",
    "    :return: +1 if predicted answer is correct, 0 if no answer is predicted (None), -1 if answer is wrong \n",
    "    \"\"\" \n",
    "    if predicted is None:\n",
    "        return 0 \n",
    "    elif predicted == actual:\n",
    "        return 1 \n",
    "    else: \n",
    "        return -1"
   ],
   "id": "c3f61cd9a957920f"
  },
  {
   "metadata": {
    "ExecuteTime": {
     "end_time": "2024-11-26T08:48:09.580503Z",
     "start_time": "2024-11-26T08:48:09.572172Z"
    }
   },
   "cell_type": "code",
   "source": [
    "def evaluate_results(predicted: pd.Series, actual: pd.Series) -> float:\n",
    "    \"\"\"\n",
    "    Evaluates a series of answer pairs \n",
    "    :param predicted: Series of predicted answers \n",
    "    :param actual: Series of correct answers \n",
    "    :return: Float value between -1 (worst) and +1 (best)\n",
    "    \"\"\"\n",
    "    sum = 0\n",
    "    for index, value in predicted.items():\n",
    "        eval = evaluate_result(value, actual[index])\n",
    "        sum += eval\n",
    "    result = sum / predicted.size\n",
    "    return result"
   ],
   "id": "a78c10f0d9fc38a6",
   "outputs": [
    {
     "ename": "SyntaxError",
     "evalue": "invalid syntax (1461227839.py, line 2)",
     "output_type": "error",
     "traceback": [
      "\u001B[1;36m  Cell \u001B[1;32mIn[1], line 2\u001B[1;36m\u001B[0m\n\u001B[1;33m    \"\"\" Evaluates a series of answer pairs :param predicted: Series of predicted answers :param actual: Series of correct answers :return: Float value between -1 (worst) and +1 (best) \"\"\" sum = 0 for index, value in predicted.items(): eval = evaluate_result(value, actual[index]) sum += eval result = sum / predicted.size return result\u001B[0m\n\u001B[1;37m                                                                                                                                                                                            ^\u001B[0m\n\u001B[1;31mSyntaxError\u001B[0m\u001B[1;31m:\u001B[0m invalid syntax\n"
     ]
    }
   ],
   "execution_count": 1
  },
  {
   "metadata": {},
   "cell_type": "code",
   "outputs": [],
   "execution_count": null,
   "source": [
    "# Evaluate\n",
    "score = evaluate_results(predicted, actual)\n",
    "print(f'Score: {score:.2f}')"
   ],
   "id": "c49dd719503650db"
  }
 ],
 "metadata": {
  "kernelspec": {
   "display_name": "Python 3",
   "language": "python",
   "name": "python3"
  },
  "language_info": {
   "codemirror_mode": {
    "name": "ipython",
    "version": 2
   },
   "file_extension": ".py",
   "mimetype": "text/x-python",
   "name": "python",
   "nbconvert_exporter": "python",
   "pygments_lexer": "ipython2",
   "version": "2.7.6"
  }
 },
 "nbformat": 4,
 "nbformat_minor": 5
}
