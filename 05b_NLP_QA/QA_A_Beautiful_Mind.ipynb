{
 "cells": [
  {
   "cell_type": "code",
   "id": "initial_id",
   "metadata": {
    "collapsed": true,
    "ExecuteTime": {
     "end_time": "2025-01-20T11:26:46.639331Z",
     "start_time": "2025-01-20T11:26:46.612373Z"
    }
   },
   "source": [
    "import pandas as pd\n",
    "\n",
    "train_data = pd.read_csv('data/QA_train_data.csv')\n",
    "test_data = pd.read_csv('data/QA_test_data.csv')\n",
    "\n",
    "train_data.head()"
   ],
   "outputs": [
    {
     "data": {
      "text/plain": [
       "                                           Question  \\\n",
       "0  From which country is the film A Beautiful Mind?   \n",
       "1      When was the film A beautiful Mind released?   \n",
       "2      Of which genre is the film A Beautiful Mind?   \n",
       "3                   What is John Nash's profession?   \n",
       "4                   Which prices did John Nash win?   \n",
       "\n",
       "                                    Answer  \n",
       "0                                  America  \n",
       "1                                     2001  \n",
       "2                       biographical drama  \n",
       "3                            mathematician  \n",
       "4  Nobel price in Economics and Abel Prize  "
      ],
      "text/html": [
       "<div>\n",
       "<style scoped>\n",
       "    .dataframe tbody tr th:only-of-type {\n",
       "        vertical-align: middle;\n",
       "    }\n",
       "\n",
       "    .dataframe tbody tr th {\n",
       "        vertical-align: top;\n",
       "    }\n",
       "\n",
       "    .dataframe thead th {\n",
       "        text-align: right;\n",
       "    }\n",
       "</style>\n",
       "<table border=\"1\" class=\"dataframe\">\n",
       "  <thead>\n",
       "    <tr style=\"text-align: right;\">\n",
       "      <th></th>\n",
       "      <th>Question</th>\n",
       "      <th>Answer</th>\n",
       "    </tr>\n",
       "  </thead>\n",
       "  <tbody>\n",
       "    <tr>\n",
       "      <th>0</th>\n",
       "      <td>From which country is the film A Beautiful Mind?</td>\n",
       "      <td>America</td>\n",
       "    </tr>\n",
       "    <tr>\n",
       "      <th>1</th>\n",
       "      <td>When was the film A beautiful Mind released?</td>\n",
       "      <td>2001</td>\n",
       "    </tr>\n",
       "    <tr>\n",
       "      <th>2</th>\n",
       "      <td>Of which genre is the film A Beautiful Mind?</td>\n",
       "      <td>biographical drama</td>\n",
       "    </tr>\n",
       "    <tr>\n",
       "      <th>3</th>\n",
       "      <td>What is John Nash's profession?</td>\n",
       "      <td>mathematician</td>\n",
       "    </tr>\n",
       "    <tr>\n",
       "      <th>4</th>\n",
       "      <td>Which prices did John Nash win?</td>\n",
       "      <td>Nobel price in Economics and Abel Prize</td>\n",
       "    </tr>\n",
       "  </tbody>\n",
       "</table>\n",
       "</div>"
      ]
     },
     "execution_count": 19,
     "metadata": {},
     "output_type": "execute_result"
    }
   ],
   "execution_count": 19
  },
  {
   "metadata": {
    "ExecuteTime": {
     "end_time": "2025-01-20T11:27:08.457839Z",
     "start_time": "2025-01-20T11:26:46.718510Z"
    }
   },
   "cell_type": "code",
   "source": [
    "# pip install spacy\n",
    "import spacy\n",
    "\n",
    "# python -m spacy download en_core_web_md\n",
    "nlp = spacy.load('en_core_web_md')\n",
    "\n",
    "def preprocess(text: str) -> str:\n",
    "    \"\"\"\n",
    "    Preprocesses the input text by lowercasing, removing punctuation, and lemmatizing.\n",
    "    :param text: string\n",
    "    :return: preprocessed string\n",
    "    \"\"\"\n",
    "    doc = nlp(text.lower())\n",
    "    tokens = [token.lemma_ for token in doc if not token.is_punct]\n",
    "    return ' '.join(tokens)\n",
    "\n",
    "# Preprocess the training questions\n",
    "train_data['Processed_Question'] = train_data['Question'].apply(preprocess)\n",
    "\n",
    "\n",
    "def predict_answer(question: str) -> str:\n",
    "    \"\"\"\n",
    "    Predicts an answer to a given question\n",
    "    :param question: string\n",
    "    :return: answer string or None if insufficient confidence\n",
    "    \"\"\"\n",
    "    q = nlp(preprocess(question))\n",
    "    best_match = None\n",
    "    best_similarity = 0.0\n",
    "\n",
    "    for question, answer in zip(train_data['Processed_Question'], train_data['Answer']):\n",
    "        similarity = q.similarity(nlp(question))\n",
    "        if similarity > best_similarity:\n",
    "            best_similarity = similarity\n",
    "            best_match = answer\n",
    "\n",
    "    if best_similarity > 0.95:  # Confidence threshold\n",
    "        return best_match\n",
    "    return None\n",
    "\n",
    "\n",
    "# Predict\n",
    "predicted = test_data['Question'].apply(lambda q: predict_answer(q))\n",
    "actual = test_data['Answer']"
   ],
   "id": "b5a5fbb76c5c899b",
   "outputs": [],
   "execution_count": 20
  },
  {
   "metadata": {
    "ExecuteTime": {
     "end_time": "2025-01-20T11:27:08.516622Z",
     "start_time": "2025-01-20T11:27:08.502983Z"
    }
   },
   "cell_type": "code",
   "source": [
    "# Evaluate\n",
    "\n",
    "def evaluate_result(predicted: str, actual: str) -> int:\n",
    "    \"\"\"\n",
    "    Evaluates individual string answer string pair\n",
    "    :param predicted: answer predicted by predictor\n",
    "    :param actual: correct answer according to data set\n",
    "    :return: +1 if predicted answer is correct, 0 if no answer is predicted (None), -1 if answer is wrong\n",
    "    \"\"\"\n",
    "    if predicted is None:\n",
    "        return 0\n",
    "    elif predicted == actual:\n",
    "        return 1\n",
    "    else:\n",
    "        return -1\n",
    "\n",
    "def evaluate_results(predicted: pd.Series, actual: pd.Series) -> float:\n",
    "    \"\"\"\n",
    "    Evaluates a series of answer pairs\n",
    "    :param predicted: Series of predicted answers\n",
    "    :param actual: Series of correct answers\n",
    "    :return: Float value between -1 (worst) and +1 (best)\n",
    "    \"\"\"\n",
    "    sum = 0\n",
    "    for index, value in predicted.items():\n",
    "        eval = evaluate_result(value, actual[index])\n",
    "        sum += eval\n",
    "    result = sum / predicted.size\n",
    "    return result\n",
    "\n",
    "\n",
    "score = evaluate_results(predicted, actual)\n",
    "print(f\"Score: {score}\")"
   ],
   "id": "ae2384bb2f0b2004",
   "outputs": [
    {
     "name": "stdout",
     "output_type": "stream",
     "text": [
      "Score: 0.30303030303030304\n"
     ]
    }
   ],
   "execution_count": 21
  }
 ],
 "metadata": {
  "kernelspec": {
   "display_name": "Python 3",
   "language": "python",
   "name": "python3"
  },
  "language_info": {
   "codemirror_mode": {
    "name": "ipython",
    "version": 2
   },
   "file_extension": ".py",
   "mimetype": "text/x-python",
   "name": "python",
   "nbconvert_exporter": "python",
   "pygments_lexer": "ipython2",
   "version": "2.7.6"
  }
 },
 "nbformat": 4,
 "nbformat_minor": 5
}
